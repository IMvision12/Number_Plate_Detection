{
 "cells": [
  {
   "cell_type": "code",
   "execution_count": 3,
   "id": "9628f0cf",
   "metadata": {},
   "outputs": [],
   "source": [
    "import shutil\n",
    "import os"
   ]
  },
  {
   "cell_type": "code",
   "execution_count": 1,
   "id": "e20e21e0",
   "metadata": {},
   "outputs": [],
   "source": [
    "f = open('test.txt','r')\n",
    "test = []\n",
    "for line in f:\n",
    "    test.append(line.strip())"
   ]
  },
  {
   "cell_type": "markdown",
   "id": "702039ae",
   "metadata": {},
   "source": [
    "# testing Data"
   ]
  },
  {
   "cell_type": "code",
   "execution_count": 5,
   "id": "201d3884",
   "metadata": {},
   "outputs": [],
   "source": [
    "for i in test:\n",
    "    shutil.move(f\"VOC2007/Annotations/{str(i)}.txt\",\"test/Annotations/\")"
   ]
  },
  {
   "cell_type": "code",
   "execution_count": 6,
   "id": "64c8cfd5",
   "metadata": {},
   "outputs": [],
   "source": [
    "for i in test:\n",
    "    shutil.move(f\"VOC2007/JPEGImages/{str(i)}.jpg\",\"test/images/\")"
   ]
  },
  {
   "cell_type": "code",
   "execution_count": 9,
   "id": "719819f8",
   "metadata": {},
   "outputs": [
    {
     "name": "stdout",
     "output_type": "stream",
     "text": [
      "169\n",
      "169\n"
     ]
    }
   ],
   "source": [
    "print(len(os.listdir(\"test/images\")))\n",
    "print(len(os.listdir(\"test/Annotations\")))"
   ]
  },
  {
   "cell_type": "markdown",
   "id": "920e9f0e",
   "metadata": {},
   "source": [
    "# Training and validation data"
   ]
  },
  {
   "cell_type": "code",
   "execution_count": 13,
   "id": "7151af59",
   "metadata": {},
   "outputs": [],
   "source": [
    "x = open('trainval.txt','r')\n",
    "train = []\n",
    "for line in x:\n",
    "    train.append(line.strip())"
   ]
  },
  {
   "cell_type": "code",
   "execution_count": 14,
   "id": "0d4391fb",
   "metadata": {},
   "outputs": [],
   "source": [
    "counter = 0\n",
    "for i in train:\n",
    "    shutil.move(f\"VOC2007/Annotations/{str(i)}.txt\",\"Dataset/labels/train/\")\n",
    "    shutil.move(f\"VOC2007/JPEGImages/{str(i)}.jpg\",\"Dataset/images/train\")\n",
    "    if counter==400: break\n",
    "    counter+=1"
   ]
  },
  {
   "cell_type": "code",
   "execution_count": 19,
   "id": "2e0457f5",
   "metadata": {},
   "outputs": [
    {
     "name": "stdout",
     "output_type": "stream",
     "text": [
      "['car_276', 'car_584', 'car_160', 'car_154', 'car_213', 'car_12', 'car_407', 'car_614', 'car_542', 'car_229', 'car_203', 'car_24', 'car_161', 'car_124', 'car_74', 'car_641', 'car_316', 'car_465', 'car_208', 'car_592', 'car_168', 'car_109', 'car_83', 'car_188', 'car_93', 'car_632', 'car_399', 'car_651', 'car_563', 'car_371', 'car_555', 'car_619', 'car_617', 'car_535', 'car_144', 'car_459', 'car_395', 'car_150', 'car_333', 'car_400', 'car_311', 'car_340', 'car_29', 'car_290', 'car_620', 'car_441', 'car_631', 'car_436', 'car_646', 'car_127', 'car_272', 'car_67', 'car_439', 'car_142', 'car_412', 'car_78', 'car_640', 'car_34', 'car_297', 'car_634', 'car_3', 'car_596', 'car_495', 'car_416', 'car_334', 'car_263', 'car_531', 'car_361', 'car_91', 'car_76', 'car_86', 'car_458', 'car_332', 'car_195', 'car_418', 'car_303', 'car_25', 'car_501', 'car_362', 'car_505', 'car_259', 'car_313', 'car_49', 'car_306', 'car_654', 'car_488', 'car_367', 'car_509', 'car_496', 'car_233', 'car_11', 'car_200', 'car_298', 'car_5', 'car_387', 'car_278', 'car_621', 'car_438', 'car_586', 'car_176']\n"
     ]
    }
   ],
   "source": [
    "for i in range(400):\n",
    "    train.pop(0)\n",
    "print(train)"
   ]
  },
  {
   "cell_type": "code",
   "execution_count": 21,
   "id": "de69841b",
   "metadata": {},
   "outputs": [
    {
     "data": {
      "text/plain": [
       "'car_276'"
      ]
     },
     "execution_count": 21,
     "metadata": {},
     "output_type": "execute_result"
    }
   ],
   "source": [
    "train.pop(0)"
   ]
  },
  {
   "cell_type": "code",
   "execution_count": 22,
   "id": "67a07e89",
   "metadata": {},
   "outputs": [],
   "source": [
    "for i in train:\n",
    "    shutil.move(f\"VOC2007/Annotations/{str(i)}.txt\",\"Dataset/labels/val/\")\n",
    "    shutil.move(f\"VOC2007/JPEGImages/{str(i)}.jpg\",\"Dataset/images/val\")"
   ]
  }
 ],
 "metadata": {
  "kernelspec": {
   "display_name": "Python 3 (ipykernel)",
   "language": "python",
   "name": "python3"
  },
  "language_info": {
   "codemirror_mode": {
    "name": "ipython",
    "version": 3
   },
   "file_extension": ".py",
   "mimetype": "text/x-python",
   "name": "python",
   "nbconvert_exporter": "python",
   "pygments_lexer": "ipython3",
   "version": "3.8.10"
  }
 },
 "nbformat": 4,
 "nbformat_minor": 5
}
